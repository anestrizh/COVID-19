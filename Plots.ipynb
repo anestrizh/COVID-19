{
  "nbformat": 4,
  "nbformat_minor": 0,
  "metadata": {
    "colab": {
      "name": "Plots.ipynb",
      "provenance": []
    },
    "kernelspec": {
      "name": "python3",
      "display_name": "Python 3"
    },
    "language_info": {
      "name": "python"
    }
  },
  "cells": [
    {
      "cell_type": "code",
      "metadata": {
        "id": "hfZH2X2Lz47v"
      },
      "source": [
        "import pandas as pd\n",
        "import numpy as np\n",
        "import matplotlib.pyplot as plt\n",
        "import requests\n",
        "from datetime import datetime"
      ],
      "execution_count": null,
      "outputs": []
    },
    {
      "cell_type": "code",
      "metadata": {
        "id": "UfAWIsp1z3Im"
      },
      "source": [
        "url = 'https://api.covid19api.com/country/russia'"
      ],
      "execution_count": null,
      "outputs": []
    },
    {
      "cell_type": "code",
      "metadata": {
        "id": "eBobcMIp0LZ_"
      },
      "source": [
        "df = pd.DataFrame(requests.get(url).json())"
      ],
      "execution_count": null,
      "outputs": []
    },
    {
      "cell_type": "code",
      "metadata": {
        "colab": {
          "base_uri": "https://localhost:8080/",
          "height": 589
        },
        "id": "xsaNyIgv0W_X",
        "outputId": "fc3aa7b0-d239-4dcc-8555-ba1696ffc7db"
      },
      "source": [
        "df"
      ],
      "execution_count": null,
      "outputs": [
        {
          "output_type": "execute_result",
          "data": {
            "text/html": [
              "<div>\n",
              "<style scoped>\n",
              "    .dataframe tbody tr th:only-of-type {\n",
              "        vertical-align: middle;\n",
              "    }\n",
              "\n",
              "    .dataframe tbody tr th {\n",
              "        vertical-align: top;\n",
              "    }\n",
              "\n",
              "    .dataframe thead th {\n",
              "        text-align: right;\n",
              "    }\n",
              "</style>\n",
              "<table border=\"1\" class=\"dataframe\">\n",
              "  <thead>\n",
              "    <tr style=\"text-align: right;\">\n",
              "      <th></th>\n",
              "      <th>ID</th>\n",
              "      <th>Country</th>\n",
              "      <th>CountryCode</th>\n",
              "      <th>Province</th>\n",
              "      <th>City</th>\n",
              "      <th>CityCode</th>\n",
              "      <th>Lat</th>\n",
              "      <th>Lon</th>\n",
              "      <th>Confirmed</th>\n",
              "      <th>Deaths</th>\n",
              "      <th>Recovered</th>\n",
              "      <th>Active</th>\n",
              "      <th>Date</th>\n",
              "    </tr>\n",
              "  </thead>\n",
              "  <tbody>\n",
              "    <tr>\n",
              "      <th>0</th>\n",
              "      <td>da3348a7-e57e-44f7-b56b-6464917218aa</td>\n",
              "      <td>Russian Federation</td>\n",
              "      <td>RU</td>\n",
              "      <td></td>\n",
              "      <td></td>\n",
              "      <td></td>\n",
              "      <td>61.52</td>\n",
              "      <td>105.32</td>\n",
              "      <td>0</td>\n",
              "      <td>0</td>\n",
              "      <td>0</td>\n",
              "      <td>0</td>\n",
              "      <td>2020-01-22T00:00:00Z</td>\n",
              "    </tr>\n",
              "    <tr>\n",
              "      <th>1</th>\n",
              "      <td>fd6d3be0-e594-4e42-b184-89863658a4cb</td>\n",
              "      <td>Russian Federation</td>\n",
              "      <td>RU</td>\n",
              "      <td></td>\n",
              "      <td></td>\n",
              "      <td></td>\n",
              "      <td>61.52</td>\n",
              "      <td>105.32</td>\n",
              "      <td>0</td>\n",
              "      <td>0</td>\n",
              "      <td>0</td>\n",
              "      <td>0</td>\n",
              "      <td>2020-01-23T00:00:00Z</td>\n",
              "    </tr>\n",
              "    <tr>\n",
              "      <th>2</th>\n",
              "      <td>abf02684-3e86-4be5-b1fe-80a443331c5c</td>\n",
              "      <td>Russian Federation</td>\n",
              "      <td>RU</td>\n",
              "      <td></td>\n",
              "      <td></td>\n",
              "      <td></td>\n",
              "      <td>61.52</td>\n",
              "      <td>105.32</td>\n",
              "      <td>0</td>\n",
              "      <td>0</td>\n",
              "      <td>0</td>\n",
              "      <td>0</td>\n",
              "      <td>2020-01-24T00:00:00Z</td>\n",
              "    </tr>\n",
              "    <tr>\n",
              "      <th>3</th>\n",
              "      <td>12d657c9-eeed-42b3-a233-4a0c7b3f0eb9</td>\n",
              "      <td>Russian Federation</td>\n",
              "      <td>RU</td>\n",
              "      <td></td>\n",
              "      <td></td>\n",
              "      <td></td>\n",
              "      <td>61.52</td>\n",
              "      <td>105.32</td>\n",
              "      <td>0</td>\n",
              "      <td>0</td>\n",
              "      <td>0</td>\n",
              "      <td>0</td>\n",
              "      <td>2020-01-25T00:00:00Z</td>\n",
              "    </tr>\n",
              "    <tr>\n",
              "      <th>4</th>\n",
              "      <td>225d2935-4e14-41d6-9e99-abcf5090e361</td>\n",
              "      <td>Russian Federation</td>\n",
              "      <td>RU</td>\n",
              "      <td></td>\n",
              "      <td></td>\n",
              "      <td></td>\n",
              "      <td>61.52</td>\n",
              "      <td>105.32</td>\n",
              "      <td>0</td>\n",
              "      <td>0</td>\n",
              "      <td>0</td>\n",
              "      <td>0</td>\n",
              "      <td>2020-01-26T00:00:00Z</td>\n",
              "    </tr>\n",
              "    <tr>\n",
              "      <th>...</th>\n",
              "      <td>...</td>\n",
              "      <td>...</td>\n",
              "      <td>...</td>\n",
              "      <td>...</td>\n",
              "      <td>...</td>\n",
              "      <td>...</td>\n",
              "      <td>...</td>\n",
              "      <td>...</td>\n",
              "      <td>...</td>\n",
              "      <td>...</td>\n",
              "      <td>...</td>\n",
              "      <td>...</td>\n",
              "      <td>...</td>\n",
              "    </tr>\n",
              "    <tr>\n",
              "      <th>514</th>\n",
              "      <td>ea541803-cfca-4ca7-a23d-2a0e0c7d1146</td>\n",
              "      <td>Russian Federation</td>\n",
              "      <td>RU</td>\n",
              "      <td></td>\n",
              "      <td></td>\n",
              "      <td></td>\n",
              "      <td>61.52</td>\n",
              "      <td>105.32</td>\n",
              "      <td>5237847</td>\n",
              "      <td>126761</td>\n",
              "      <td>4804943</td>\n",
              "      <td>306143</td>\n",
              "      <td>2021-06-19T00:00:00Z</td>\n",
              "    </tr>\n",
              "    <tr>\n",
              "      <th>515</th>\n",
              "      <td>eaef96ea-cf06-4c3e-bab0-6a98bcd0242d</td>\n",
              "      <td>Russian Federation</td>\n",
              "      <td>RU</td>\n",
              "      <td></td>\n",
              "      <td></td>\n",
              "      <td></td>\n",
              "      <td>61.52</td>\n",
              "      <td>105.32</td>\n",
              "      <td>5255214</td>\n",
              "      <td>127206</td>\n",
              "      <td>4813476</td>\n",
              "      <td>314532</td>\n",
              "      <td>2021-06-20T00:00:00Z</td>\n",
              "    </tr>\n",
              "    <tr>\n",
              "      <th>516</th>\n",
              "      <td>85e7c590-c506-40d9-a613-091b65b78683</td>\n",
              "      <td>Russian Federation</td>\n",
              "      <td>RU</td>\n",
              "      <td></td>\n",
              "      <td></td>\n",
              "      <td></td>\n",
              "      <td>61.52</td>\n",
              "      <td>105.32</td>\n",
              "      <td>5272328</td>\n",
              "      <td>127641</td>\n",
              "      <td>4821808</td>\n",
              "      <td>322879</td>\n",
              "      <td>2021-06-21T00:00:00Z</td>\n",
              "    </tr>\n",
              "    <tr>\n",
              "      <th>517</th>\n",
              "      <td>535a29ff-00ae-4cb0-92e6-239d93427333</td>\n",
              "      <td>Russian Federation</td>\n",
              "      <td>RU</td>\n",
              "      <td></td>\n",
              "      <td></td>\n",
              "      <td></td>\n",
              "      <td>61.52</td>\n",
              "      <td>105.32</td>\n",
              "      <td>5288766</td>\n",
              "      <td>128180</td>\n",
              "      <td>4832838</td>\n",
              "      <td>327748</td>\n",
              "      <td>2021-06-22T00:00:00Z</td>\n",
              "    </tr>\n",
              "    <tr>\n",
              "      <th>518</th>\n",
              "      <td>d28dfc54-c66e-4ef4-b9a6-d5a3314188ca</td>\n",
              "      <td>Russian Federation</td>\n",
              "      <td>RU</td>\n",
              "      <td></td>\n",
              "      <td></td>\n",
              "      <td></td>\n",
              "      <td>61.52</td>\n",
              "      <td>105.32</td>\n",
              "      <td>5306069</td>\n",
              "      <td>128719</td>\n",
              "      <td>4845313</td>\n",
              "      <td>332037</td>\n",
              "      <td>2021-06-23T00:00:00Z</td>\n",
              "    </tr>\n",
              "  </tbody>\n",
              "</table>\n",
              "<p>519 rows × 13 columns</p>\n",
              "</div>"
            ],
            "text/plain": [
              "                                       ID  ...                  Date\n",
              "0    da3348a7-e57e-44f7-b56b-6464917218aa  ...  2020-01-22T00:00:00Z\n",
              "1    fd6d3be0-e594-4e42-b184-89863658a4cb  ...  2020-01-23T00:00:00Z\n",
              "2    abf02684-3e86-4be5-b1fe-80a443331c5c  ...  2020-01-24T00:00:00Z\n",
              "3    12d657c9-eeed-42b3-a233-4a0c7b3f0eb9  ...  2020-01-25T00:00:00Z\n",
              "4    225d2935-4e14-41d6-9e99-abcf5090e361  ...  2020-01-26T00:00:00Z\n",
              "..                                    ...  ...                   ...\n",
              "514  ea541803-cfca-4ca7-a23d-2a0e0c7d1146  ...  2021-06-19T00:00:00Z\n",
              "515  eaef96ea-cf06-4c3e-bab0-6a98bcd0242d  ...  2021-06-20T00:00:00Z\n",
              "516  85e7c590-c506-40d9-a613-091b65b78683  ...  2021-06-21T00:00:00Z\n",
              "517  535a29ff-00ae-4cb0-92e6-239d93427333  ...  2021-06-22T00:00:00Z\n",
              "518  d28dfc54-c66e-4ef4-b9a6-d5a3314188ca  ...  2021-06-23T00:00:00Z\n",
              "\n",
              "[519 rows x 13 columns]"
            ]
          },
          "metadata": {
            "tags": []
          },
          "execution_count": 57
        }
      ]
    },
    {
      "cell_type": "code",
      "metadata": {
        "id": "3yyJKnzr1-Lp"
      },
      "source": [
        "df['New'] = np.maximum(df['Confirmed'] - np.roll(df['Confirmed'],1), 0)"
      ],
      "execution_count": null,
      "outputs": []
    },
    {
      "cell_type": "code",
      "metadata": {
        "id": "h1WR7x2M4xE1"
      },
      "source": [
        "df = df[ (df['Date'] < '2020-06-30T00:00:00Z') & (df['Date'] >= '2020-04-23T00:00:00Z')]"
      ],
      "execution_count": null,
      "outputs": []
    },
    {
      "cell_type": "code",
      "metadata": {
        "id": "COQ0GUG86YI1"
      },
      "source": [
        "def downscale_array(x = np.array([]), n = 6):\n",
        "    x = np.array(x)\n",
        "    return x[np.ceil(np.linspace(0, x.shape[0], n + 1))[:-1].astype(int)]"
      ],
      "execution_count": null,
      "outputs": []
    },
    {
      "cell_type": "code",
      "metadata": {
        "id": "xCsYA-xv50Na"
      },
      "source": [
        "def useTimeline (x, n = 6, format = '%H:%M'):\n",
        "    plt.xticks(\n",
        "        rotation = 90,\n",
        "        ticks = downscale_array(x, n),\n",
        "        labels = downscale_array([datetime.strptime(i, '%Y-%m-%dT00:00:00Z').strftime(format) for i in (x)], n)\n",
        "    );"
      ],
      "execution_count": null,
      "outputs": []
    },
    {
      "cell_type": "code",
      "metadata": {
        "colab": {
          "base_uri": "https://localhost:8080/",
          "height": 387
        },
        "id": "bfNPuwJe0697",
        "outputId": "fc667703-1528-4362-f737-74897fd74e4b"
      },
      "source": [
        "plt.bar(df['Date'], df['New'], width = 0.8)\n",
        "useTimeline(df['Date'], round(df['Date'].size/4), '%Y-%m-%d')\n",
        "plt.title('Number of new records of date in Russia')\n",
        "plt.xlabel('Date')\n",
        "plt.ylabel('Number of new')\n",
        "plt.margins(x = 0)\n",
        "plt.rcParams[\"figure.figsize\"] = (5, 4.8)\n",
        "plt.show()"
      ],
      "execution_count": null,
      "outputs": [
        {
          "output_type": "display_data",
          "data": {
            "image/png": "[encoded data removed]",
            "text/plain": [
              "<Figure size 432x345.6 with 1 Axes>"
            ]
          },
          "metadata": {
            "tags": [],
            "needs_background": "light"
          }
        }
      ]
    },
    {
      "cell_type": "code",
      "metadata": {
        "id": "goa2KQQi19V4"
      },
      "source": [
        ""
      ],
      "execution_count": null,
      "outputs": []
    }
  ]
}